{
 "cells": [
  {
   "cell_type": "markdown",
   "metadata": {
    "pycharm": {
     "name": "#%% md\n"
    }
   },
   "source": [
    "# Histogram obrazu. Wyrównywanie histogramu."
   ]
  },
  {
   "cell_type": "markdown",
   "metadata": {
    "collapsed": false,
    "pycharm": {
     "name": "#%% md\n"
    }
   },
   "source": [
    "## Cel ćwiczenia\n",
    "\n",
    "- Zapoznanie z pojęciem histogramu obrazu (w odcieniach szarości i kolorze).\n",
    "- Zapoznanie z metodami modyfikacji histogramu (rozciąganie, wyrównywanie, dopasowywanie)."
   ]
  },
  {
   "cell_type": "markdown",
   "metadata": {
    "collapsed": false,
    "pycharm": {
     "name": "#%% md\n"
    }
   },
   "source": [
    "## Histogram\n",
    "\n",
    "- Histogramem obrazu nazywamy wykres słupkowy zdefiniowany następującymi zależnościami:<br>\n",
    "\\begin{equation}\n",
    "h(i) = \\sum_{x=0}^{N-1} \\sum_{y=0}^{M-1} p(i,(x,y))\n",
    "\\end{equation}<br>\n",
    "gdzie:<br>\n",
    "\\begin{equation}\n",
    "p(i) =  \\left\\{\n",
    "  \\begin{array}{l l}\n",
    "    1 & \\quad \\text{gdy} f(x,y) = i\\\\\n",
    "    0 & \\quad \\text{gdy} f(x,y) \\ne i\n",
    "  \\end{array} \\right.\n",
    "\\end{equation}\n",
    "\n",
    "- Inaczej mówiąc, histogram zawiera informacje na temat tego ile pikseli o danym poziomie jasności występuje na obrazie (w przypadku obrazu w odcieniach szarości). Określa się to także rozkładem empirycznym cechy.\n",
    "\n",
    "- Często wykorzystuje się tzw. znormalizowaną postać histogramu  – wszystkie wartości $h(i)$ są dzielone przez liczbę pikseli na obrazie.\n",
    "Otrzymana w ten sposób wielkość to gęstość prawdopodobieństwa wystąpienia na obrazie pikseli o odcieniu $i$.\n",
    "\n",
    "- Histogram można zdefiniować również dla obrazów kolorowych.\n",
    "Otrzymujemy wtedy 3 histogramy – po jednym dla danej składowej: R,G,B (lub HSV, YCbCr, itp.) lub histogram trójwymiarowy.\n",
    "\n",
    "- Histogram jest bardzo użyteczny w przetwarzaniu i analizie obrazów.\n",
    "Wykorzystywany jest przy binaryzacji (szerzej na jednym z kolejnych laboratoriów) oraz do oceny jakości (dynamiki, kontrastu) obrazu.\n",
    "W idealnym przypadku wszystkie poziomy jasności w obrazie powinny być wykorzystane (i to najlepiej w miarę jednolicie)  – obrazowo mówiąc histogram powinien rozciągać się od 0  – 255 (obraz w skali szarości).\n",
    "\n",
    "- W przypadku gdy  wykorzystujemy jedynie fragment dostępnego zakresu (wąski histogram)  lub histogram nie jest jednolity (występują dominujące grupy pikseli) obraz ma dość słaby kontrast.\n",
    "Cechę tę można poprawić stosując tzw. rozciąganie albo wyrównywanie histogramu (ang. *histogram equalization*).</div>"
   ]
  },
  {
   "cell_type": "markdown",
   "metadata": {
    "collapsed": false,
    "pycharm": {
     "name": "#%% md\n"
    }
   },
   "source": [
    "## Histogram dla obrazów w odcieniach szarości\n",
    "\n",
    "1. Zaimportuj potrzebne biblioteki: *OpenCV*, *pyplot* z *matplotlib* i *numpy*.\n",
    "        import cv2\n",
    "        from matplotlib import pyplot as plt\n",
    "        import numpy as np\n",
    "2. Wczytaj obrazy *lenaX.bmp* w skali szarości. *X* jest numerem wczytywanego obrazu (1 - 4).\n",
    "        I = cv2.imread('lenaX.bmp', cv2.IMREAD_GRAYSCALE)\n",
    "3. Oblicz histogram wczytanego obrazu wykorzystując funkcję `cv2.calcHist`.\n",
    "    - Pierwszym argumentem jest obraz, dla którego obliczony zostanie histogram.\n",
    "    Należy go przekazać w nawiasie kwadratowym.\n",
    "    - Drugim argumentem jest numer kanału, dla którego ma zostać obliczony histogram.\n",
    "    Również powinien być przekazany w nawiasie kwadratowym.\n",
    "    - Trzeci argument oznacza maskę, czyli obszar, dla którego ma zostać wyznaczony histogram.\n",
    "    Aby obliczyć dla całego obrazu należy przekazać *None*.\n",
    "    - Czwartym argumentem jest rozmiar histogramu (liczba przedziałów).\n",
    "    Argument powinien być w nawiasie kwadratowym. Dla pełnej skali należy przekazać wartość *256*.\n",
    "    - Ostatnim argumentem jest zakres wartości. Dla obrazów typu *uint8* powinien on wynosić *[0, 256]*.\n",
    "    - Funkcja zwraca obliczony histogram.\n",
    "4. Wyświetl wczytane obrazy i ich histogramy w jednym oknie. Użyj `plt.subplot()` w celu stworzenia siatki wykresów.\n",
    "        figLena, axsLena = plt.subplots(2, 4)\n",
    "Rozmiar utworzonego okna można zmienić wykorzystując instrukcję (uwaga w calach -  1 cal to 2.54cm):\n",
    "        figLena.set_size_inches(20, 10)\n",
    "Przykładowe wyświetlenie obrazu:\n",
    "        axsLena[0, 0].imshow(I1, 'gray', vmin=0, vmax=256)\n",
    "        axsLena[0, 0].axis('off')\n",
    "Przykładowe wyświetlenie histogramu:\n",
    "        axsLena[1, 0].plot(H1)\n",
    "        axsLena[1, 0].grid()\n",
    "5. Przeanalizuj (dokładnie) związek histogramu z jasnością i ostrością obrazu (tu rozumianą jako subiektywne odczucie)."
   ]
  },
  {
   "cell_type": "code",
   "execution_count": null,
   "metadata": {
    "pycharm": {
     "name": "#%% Zadanie 1 - wyświetlanie\n"
    }
   },
   "outputs": [],
   "source": [
    "import cv2\n",
    "import os\n",
    "from matplotlib import pyplot as plt\n",
    "import numpy as np\n",
    "\n",
    "if not os.path.exists(\"lena1.bmp\") :\n",
    "    !wget https://raw.githubusercontent.com/vision-agh/poc_sw/master/03_Histogram/lena1.bmp --no-check-certificate\n",
    "\n",
    "if not os.path.exists(\"lena2.bmp\") :\n",
    "    !wget https://raw.githubusercontent.com/vision-agh/poc_sw/master/03_Histogram/lena2.bmp --no-check-certificate\n",
    "\n",
    "if not os.path.exists(\"lena3.bmp\") :\n",
    "    !wget https://raw.githubusercontent.com/vision-agh/poc_sw/master/03_Histogram/lena3.bmp --no-check-certificate\n",
    "\n",
    "if not os.path.exists(\"lena4.bmp\") :\n",
    "    !wget https://raw.githubusercontent.com/vision-agh/poc_sw/master/03_Histogram/lena4.bmp --no-check-certificate\n",
    "\n",
    "\n",
    "lena_1=cv2.imread('lena1.bmp', cv2.IMREAD_GRAYSCALE)\n",
    "\n",
    "lena_2=cv2.imread('lena2.bmp', cv2.IMREAD_GRAYSCALE)\n",
    "\n",
    "lena_3=cv2.imread('lena3.bmp', cv2.IMREAD_GRAYSCALE)\n",
    "\n",
    "lena_4=cv2.imread('lena4.bmp', cv2.IMREAD_GRAYSCALE)\n",
    "\n",
    "histogram_1=cv2.calcHist([lena_1],[0],None,[256],[0,256])\n",
    "\n",
    "histogram_2=cv2.calcHist([lena_2],[0],None,[256],[0,256])\n",
    "\n",
    "histogram_3=cv2.calcHist([lena_3],[0],None,[256],[0,256])\n",
    "\n",
    "histogram_4=cv2.calcHist([lena_4],[0],None,[256],[0,256])\n",
    "\n",
    "## Histogram dla obrazów w odcieniach szarości\n",
    "\n",
    "figLena, axsLena = plt.subplots(2, 4)\n",
    "figLena.set_size_inches(20, 10)\n",
    "\n",
    "leny=[lena_1, lena_2, lena_3, lena_4]\n",
    "histy_leny=[histogram_1, histogram_2, histogram_3, histogram_4]\n",
    "x=0\n",
    "for lena, histy_leny in zip(leny, histy_leny):\n",
    "        axsLena[0, x].imshow(lena, 'gray', vmin=0, vmax=256) #obraz leny w pozycji 0, 0\n",
    "        axsLena[0, x].axis('off') # do obrazu w pozycji 0, 0\n",
    "        axsLena[1, x].plot(histy_leny)\n",
    "        axsLena[1, x].grid()\n",
    "        x=x+1\n",
    "\n",
    "\n",
    "\n",
    "\n",
    "\n",
    "\n"
   ]
  },
  {
   "cell_type": "markdown",
   "metadata": {},
   "source": [
    "Czym więcej jest mocno szarych pikseli, tym więcej jest wartości bliskich zeru. Jeżeli obraz jest bardziej jasny tym więcej jest pikseli o kolorze bliskim 250 (0-ciemny szary, 255-jasmy szary). Obrzay ciemniejsze są bardziej dokładne."
   ]
  },
  {
   "cell_type": "markdown",
   "metadata": {
    "collapsed": false,
    "pycharm": {
     "name": "#%% md\n"
    }
   },
   "source": [
    "## Rozciąganie histogramu\n",
    "\n",
    "Najprostszą metodą poprawienia jakości obrazu jest tzw. rozciągnięcie histogramu.\n",
    "Polega na przeskalowaniu wartości pikseli w obrazie tak, aby wykorzystać cały dostępny zakres [0-255] (oczywiście w przypadku obrazów w odcieniach szarości w reprezentacji 8-bitowej).\n",
    "\n",
    "1. Wczytaj obraz *hist1.bmp* w skali szarości.\n",
    "Oblicz i wyświetl histogram rozpatrywanego obrazu (na wspólnym rysunku z obrazem).\n",
    "Zwróć uwagę na ilość widocznych szczegółów.\n",
    "2. Rozciągnij histogram obrazu. W tym celu można wykorzystać funkcję `cv2.normalize`.\n",
    "    - Pierwszym argumentem funkcji jest obraz poddawany operacji.\n",
    "    - Drugim argumentem jest tablica do której zostanie wpisany wynik.\n",
    "    Należy ją najpierw zainicjalizować.\n",
    "    Najlepiej zrobić to funkcją `np.zeros`, której pierwszym argumentem jest rozmiar obrazu (`I.shape`), a drugim typ danych (`uint8`).\n",
    "    Można również przekazać `None`, a wynik przypisać do nowej zmiennej.\n",
    "    - Trzecim argumentem jest minimalna wartość po normalizacji.\n",
    "    - Czwartym argumentem jest wartość maksymalna po normalizacji.\n",
    "    - Ostatnim argumentem jest typ wykorzystanej normy (uogólnienie pojęcia długości wektora).\n",
    "    Należy wykorzystać normę `cv2.NORM_MINMAX`.\n",
    "3. Rezultat operacji wyświetl (obraz i jego histogram).\n",
    "4. Czy ilość \"widocznych\" szczegółów uległa zmianie?"
   ]
  },
  {
   "cell_type": "code",
   "execution_count": null,
   "metadata": {
    "collapsed": false,
    "pycharm": {
     "name": "#%% Zadanie 2 - rozciąganie\n"
    }
   },
   "outputs": [],
   "source": [
    "if not os.path.exists(\"hist1.bmp\") :\n",
    "    !wget https://raw.githubusercontent.com/vision-agh/poc_sw/master/03_Histogram/hist1.bmp --no-check-certificate\n",
    "\n",
    "if not os.path.exists(\"hist2.bmp\") :\n",
    "    !wget https://raw.githubusercontent.com/vision-agh/poc_sw/master/03_Histogram/hist2.bmp --no-check-certificate\n",
    "\n",
    "if not os.path.exists(\"hist3.bmp\") :\n",
    "    !wget https://raw.githubusercontent.com/vision-agh/poc_sw/master/03_Histogram/hist3.bmp --no-check-certificate\n",
    "\n",
    "if not os.path.exists(\"hist4.bmp\") :\n",
    "    !wget https://raw.githubusercontent.com/vision-agh/poc_sw/master/03_Histogram/hist4.bmp --no-check-certificate\n",
    "\n",
    "\n",
    "\n",
    "\n",
    "hist1 = cv2.imread(\"hist1.bmp\", cv2.IMREAD_GRAYSCALE)\n",
    "\n",
    "histogram_1 = cv2.calcHist([hist1], [0], None, [256], [0, 256])\n",
    "\n",
    "\n",
    "\n",
    "\n",
    "plt.subplot(3, 2, 1)\n",
    "plt.imshow(hist1, 'gray', vmin=0, vmax=256)\n",
    "plt.title('Original Image')\n",
    "plt.axis('off')\n",
    "\n",
    "plt.subplot(3, 2, 2)\n",
    "plt.plot(histogram_1)\n",
    "plt.title('Original Histogram')\n",
    "\n",
    "\n",
    "\n",
    "TU_jest_obraz_znormalizowany=np.zeros(hist1.shape, dtype=np.uint8)\n",
    "cv2.normalize(hist1, TU_jest_obraz_znormalizowany , 0, 255, cv2.NORM_MINMAX)\n",
    "histogram_1 = cv2.calcHist([TU_jest_obraz_znormalizowany], [0], None, [256], [0, 256])\n",
    "plt.subplot(3, 2, 3)\n",
    "plt.imshow(TU_jest_obraz_znormalizowany, 'gray', vmin=0, vmax=256)\n",
    "plt.title('Normalized Image')\n",
    "plt.axis('off')\n",
    "\n",
    "plt.subplot(3, 2, 4)\n",
    "plt.plot(histogram_1)\n",
    "plt.title('Normalized Histogram')\n",
    "\n",
    "plt.tight_layout()\n",
    "plt.show()\n",
    "\n"
   ]
  },
  {
   "cell_type": "markdown",
   "metadata": {},
   "source": [
    "wraz z powiększeniem histogramu, zwiększa się dokładność/szczegółów obrazu."
   ]
  },
  {
   "cell_type": "markdown",
   "metadata": {
    "collapsed": false,
    "pycharm": {
     "name": "#%% md\n"
    }
   },
   "source": [
    "## Wyrównywanie histogramu\n",
    "\n",
    "<div style=\"text-align: justify\">\n",
    "Bardziej zaawansowaną metodą jest tzw. wyrównywanie histogramu (ang. *histogram equalization – HE*).\n",
    "Idea jest następująca: z punktu widzenia lepszego wykorzystania dostępnych poziomów jasności pożądane jest rozciągnięcie \"szczytów\" histogramu, a~skompresowanie \"dolin\" tak, aby taka sama liczba pikseli reprezentowana była przez każdy z dostępnych poziomów jasności (a przynjamniej przybliżona).\n",
    "Warto zwrócić uwagę, że takie przekształcenie powoduje częściową utratę informacji o szczegółach w obszarach \"dolin\".\n",
    "Inaczej mówiąc, dążymy do sytuacji, aby histogram był względnie jednostajny.\n",
    "Operacją, która pozwala wykonać wyrównywanie histogramu, jest przekształcenie LUT z funkcją przejścia w postaci histogramu skumulowanego danego obrazu.</div><br>\n",
    "\n",
    "<div style=\"text-align: justify\">\n",
    "Histogram skumulowany to funkcja obliczona na podstawie histogramu.\n",
    "Jej pierwszy element to liczba pikseli o odcieniu $0$.\n",
    "Kolejne wartości to liczba pikseli o odcieniach od $0$ do $n$.</div>\n",
    "\n",
    "\\begin{equation}\n",
    "C(n) = \\sum_{i=0}^{n} h(i)\n",
    "\\end{equation}\n",
    "\n",
    "<div style=\"text-align: justify\">\n",
    "Jeżeli histogram jest w postaci znormalizowanej (gęstość rozkładu prawdopodobieństwa) to histogram skumulowany stanowi dystrybuantę rozkładu prawdopodobieństwa.</div><br>\n",
    "\n",
    "1. Wyznacz histogram skumulowany dla obrazu *hist1.bmp*.\n",
    "W tym celu wykorzystaj metodę `cumsum` dla histogramu wczytanego obrazu.\n",
    "Nie przyjmuje ona żadnych argumentów, a zwraca skumulowane wartości tablicy, dla której została użyta.\n",
    "Histogram należy wyliczyć dla **obrazka wejściowego**, a nie dla wyniku rozciągania.\n",
    "2. Histogram skumulowany wyświetl razem z histogramem zwykłym na jednym wykresie (nie obok siebie).\n",
    "Na potrzeby wyświetlenia przeskaluj histogram skumulowany tak, by miał taką samą wartość maksymalną jak zwykły histogram.\n",
    "W tym celu wykorzystaj metodę `max`.\n",
    "3. Wyświetlenie kilku linii na jednym wykresie może być zrealizowane w następujący sposób:\n",
    "        figHistCum, axsHistCum = plt.subplots()\n",
    "\n",
    "        axsHistCum.plot(HHist)\n",
    "        axsHistCum.plot(CHistNorm)\n",
    "        axsHistCum.grid()\n",
    "4. Teraz zaimplementuj klasyczny algorytm wyrównywania histogramu.\n",
    "Wykorzystać należy obliczony histogram skumulowany.\n",
    "Należy go przeskalować w taki sposób aby na jego podstawie zrealizować przekształcenie LUT, czyli do zakresu 0 - 255.\n",
    "\n",
    ">Uwaga. Opisany algorytm wyrównywania histogramu jest wersją uproszczoną.\n",
    ">W wersji pełnej należy podczas skalowania tablicy przekodowań LUT pominąć elementy równe *0*.\n",
    ">\n",
    ">W tym celu należy wykorzystać funkcje `np.ma.masked_equal` i `np.ma.filled`.\n",
    ">Pierwsza służy do ukrywania elementów tablicy, natomiast druga zamienia ukryte elementy na podaną wartość.\n",
    ">W tym przypadku elementem ukrywanym i wpisywaną wartością byłoby *0*.\n",
    "\n",
    "5. Na kolejnym rysunku wyświetl obrazek po przekształceniu, jego histogram oraz histogram skumulowany.\n",
    "Co szczególnego można powiedzieć o jego histogramie i histogramie skumulowanym?\n",
    "6. W bibliotece *OpenCV* dostępna jest funkcja wykonująca wyrównywanie histogramu `cv2.equalizeHist`.\n",
    "Jej argumentem jest obraz, którego histogram zostanie wyrównany. Zwraca natomiast obraz wynikowy.\n",
    "Na kolejnym rysunku wyświetl wynik funkcji, jego histogram oraz histogram skumulowany.\n",
    "7. W wykorzystywanej bibliotece zaimplementowana jest również metoda adaptacyjnego wyrównywania histogramu algorytmem CLAHE (ang. *Contrast Limited Adaptive Histogram Equalization*}.\n",
    "   Kilka słów wyjaśnienia.\n",
    "   Wadą poznanej metody HE jest jej \"globalność\" rozumiana jako nieuwzględnianie lokalnych właściwości obrazu.\n",
    "   Dlatego też powstała metoda adaptacyjnego wyrównywania histogramu (AHE).\n",
    "   Jest ona spotykana w dwóch wariantach:\n",
    "   - dla każdego piksela niezależnie, w pewnym jego otoczeniu, wyznaczany jest histogram i przeprowadzane wyrównywanie.\n",
    "     Jak nietrudno się domyślić rozwiązanie jest dość kosztowne obliczeniowo.\n",
    "   - obraz wejściowy dzielony jest na nienachodzące na siebie prostokątne okna.\n",
    "     W każdym z okien obliczany jest histogram i przeprowadzane jest wyrównywanie.\n",
    "     W celu eliminacji błędów na granicy okien, stosuje się interpolację.\n",
    "\n",
    "   Metoda AHE ma jednak tą wadę, że w obszarach jednorodnych wzmacnia szum.\n",
    "   Dlatego też zaproponowano rozwiązanie CLAHE, które zakłada ograniczenie kontrastu (CL).\n",
    "   W metodzie definiuje się maksymalną wartość danego przedziału histogramu (próg ograniczenia kontrastu).\n",
    "   Piksele, które przekraczają próg są następnie równomiernie rozdzielane pomiędzy poszczególne przedziały.\n",
    "   Bardziej szczegółowy opis obu metod dostępny jest na [Wikipedii](https://en.wikipedia.org/wiki/Adaptive_histogram_equalization).\n",
    "\n",
    "8.W celu użycia algorytmu należy wywołać funkcję `cv2.createCLAHE`.\n",
    "    - Pierwszym parametrem jest próg ograniczenia kontrastu.\n",
    "    - Drugi parametr definiuje na ile prostokątów zostanie podzielony obraz w rzęch i kolumnach.\n",
    "    - Zwracany jest zainicjalizowany *smart pointer* do klasy `cv::CLAHE`.\n",
    "9. Aby wykonać wyrównywanie należy użyć metody `apply`.\n",
    "Jej argumentem jest obraz wejściowy. Zwracany jest obraz o zmodyfikowanym histogramie.\n",
    "10. Przetestuj różne parametry algorytmu CLAHE.\n",
    "11. W kolejnym etapie należy przetestować operacje (rozciąganie, wyrównywanie (HE) i adaptacyjne wyrównywanie CLAHE)  na histogramie dla obrazów rzeczywistych. *hist2.bmp*, *hist3.bmp*, *hist4.jpg*.\n",
    "W jednym oknie wyświetl: obraz oryginalny, rozciąganie, wyrównywanie HE oraz wyrównywanie CLAHE."
   ]
  },
  {
   "cell_type": "code",
   "execution_count": null,
   "metadata": {
    "collapsed": false,
    "pycharm": {
     "name": "#%% Zadanie 3 - histogram skumulowany\n"
    }
   },
   "outputs": [],
   "source": [
    "hist1 = cv2.imread(\"hist1.bmp\", cv2.IMREAD_GRAYSCALE)\n",
    "\n",
    "\n",
    "hist_calcHist=cv2.calcHist([hist1],[0],None,[256],[0,256])\n",
    "\n",
    "hist1_cumsum=hist_calcHist.cumsum()\n",
    "\n",
    "hist_hist1_cumu_norm=cv2.normalize(hist1_cumsum, None, 0, hist_calcHist.max(),cv2.NORM_MINMAX)\n",
    "\n",
    "plt.plot(hist_calcHist)\n",
    "plt.plot(hist_hist1_cumu_norm)\n",
    "plt.grid()"
   ]
  },
  {
   "cell_type": "code",
   "execution_count": null,
   "metadata": {
    "collapsed": false,
    "pycharm": {
     "name": "#%% Zadanie 3 - wyrównywanie\n"
    }
   },
   "outputs": [],
   "source": [
    "def rysowanie_wykresow(obraz):\n",
    "    histogram = cv2.calcHist([obraz],[0],None,[256],[0,256])\n",
    "    hist1_cumsum = histogram.cumsum()\n",
    "\n",
    "    plt.figure(figsize=(15, 5))  # Rozmiar całego rysunku\n",
    "\n",
    "    plt.subplot(1, 3, 1)\n",
    "    plt.imshow(obraz, 'gray', vmin=0, vmax=256)\n",
    "    plt.title('Obraz oryginalny')\n",
    "    plt.axis('off')\n",
    "    plt.gca().set_aspect('equal', adjustable='box')  # Ustawienie takiej samej skali dla osi X i Y\n",
    "\n",
    "    plt.subplot(1, 3, 2)\n",
    "    plt.plot(histogram)\n",
    "    plt.title('Histogram')\n",
    "    plt.grid()\n",
    "\n",
    "    plt.subplot(1, 3, 3)\n",
    "    plt.title(\"Histogram skumulowany\")\n",
    "    plt.plot(hist1_cumsum)\n",
    "\n",
    "    plt.show()\n",
    "    "
   ]
  },
  {
   "cell_type": "code",
   "execution_count": null,
   "metadata": {
    "collapsed": false,
    "pycharm": {
     "name": "#%% Zadanie 3 - CLAHE\n"
    }
   },
   "outputs": [],
   "source": [
    "hist1 = cv2.imread(\"hist1.bmp\", cv2.IMREAD_GRAYSCALE)\n",
    "\n",
    "hist_calcHist=cv2.calcHist([hist1],[0],None,[256],[0,256])\n",
    "\n",
    "hist1_cumsum=hist_calcHist.cumsum()\n",
    "\n",
    "hist_hist1_cumu_norm=cv2.normalize(hist1_cumsum, None, 0, 255,cv2.NORM_MINMAX)\n",
    "\n",
    "lut_hist=cv2.LUT(hist1,hist_hist1_cumu_norm)\n",
    "\n",
    "rysowanie_wykresow(lut_hist)\n",
    "\n"
   ]
  },
  {
   "cell_type": "code",
   "execution_count": null,
   "metadata": {},
   "outputs": [],
   "source": [
    "wyrownanie_z_gotowej_funkcji=cv2.equalizeHist(hist1)\n",
    "\n",
    "rysowanie_wykresow(wyrownanie_z_gotowej_funkcji)"
   ]
  },
  {
   "cell_type": "code",
   "execution_count": null,
   "metadata": {},
   "outputs": [],
   "source": [
    "clahe=cv2.createCLAHE(clipLimit=40, tileGridSize =(8, 8))\n",
    "clahe=clahe.apply(hist1)\n",
    "rysowanie_wykresow(clahe)"
   ]
  },
  {
   "cell_type": "code",
   "execution_count": null,
   "metadata": {},
   "outputs": [],
   "source": [
    "#dla roznych parametrow funkcji clahe, prog ograniczenia kontrastu \n",
    "clahe=cv2.createCLAHE(clipLimit=1000990, tileGridSize =(8, 8))\n",
    "clahe=clahe.apply(hist1)\n",
    "rysowanie_wykresow(clahe)"
   ]
  },
  {
   "cell_type": "code",
   "execution_count": null,
   "metadata": {},
   "outputs": [],
   "source": [
    "clahe=cv2.createCLAHE(clipLimit=1, tileGridSize =(8, 8))\n",
    "clahe=clahe.apply(hist1)\n",
    "rysowanie_wykresow(clahe)"
   ]
  },
  {
   "cell_type": "code",
   "execution_count": null,
   "metadata": {},
   "outputs": [],
   "source": [
    "#11 zadanie\n",
    "#W kolejnym etapie należy przetestować operacje (rozciąganie, wyrównywanie (HE) i adaptacyjne wyrównywanie CLAHE)  na histogramie dla obrazów rzeczywistych. *hist2.bmp*, *hist3.bmp*, *hist4.jpg*.\n",
    "#W jednym oknie wyświetl: obraz oryginalny, rozciąganie, wyrównywanie HE oraz wyrównywanie CLAHE.#\n",
    "hist_2 = cv2.imread(\"hist2.bmp\", cv2.IMREAD_GRAYSCALE)\n",
    "hist_3 = cv2.imread(\"hist3.bmp\", cv2.IMREAD_GRAYSCALE)\n",
    "hist_4 = cv2.imread(\"hist4.bmp\", cv2.IMREAD_GRAYSCALE)\n",
    "\n",
    "image_norma_2=cv2.normalize(hist_2,None,0,255,cv2.NORM_MINMAX)\n",
    "\n",
    "image_norma_3=cv2.normalize(hist_3,None,0,255,cv2.NORM_MINMAX)\n",
    "\n",
    "image_norma_4=cv2.normalize(hist_4,None,0,255,cv2.NORM_MINMAX)\n",
    "\n",
    "rysowanie_wykresow(image_norma_1)\n",
    "\n",
    "\n",
    "\n",
    "\n"
   ]
  },
  {
   "cell_type": "code",
   "execution_count": null,
   "metadata": {},
   "outputs": [],
   "source": [
    "wyrownanie=cv2.equalizeHist(hist_2)\n",
    "rysowanie_wykresow(wyrownanie)"
   ]
  },
  {
   "cell_type": "code",
   "execution_count": null,
   "metadata": {},
   "outputs": [],
   "source": [
    "clahe=cv2.createCLAHE(clipLimit=10,tileGridSize=(8,8))\n",
    "clahe=clahe.apply(hist_2)\n",
    "rysowanie_wykresow(clahe)"
   ]
  },
  {
   "cell_type": "code",
   "execution_count": null,
   "metadata": {},
   "outputs": [],
   "source": [
    "rysowanie_wykresow(image_norma_3)\n",
    "\n",
    "wyrownanie=cv2.equalizeHist(hist_3)\n",
    "rysowanie_wykresow(wyrownanie)\n",
    "\n",
    "clahe=cv2.createCLAHE(clipLimit=100,tileGridSize=(8,8))\n",
    "clahe=clahe.apply(hist_3)\n",
    "rysowanie_wykresow(clahe)"
   ]
  },
  {
   "cell_type": "code",
   "execution_count": null,
   "metadata": {},
   "outputs": [],
   "source": [
    "rysowanie_wykresow(image_norma_4)\n",
    "\n",
    "wyrownanie=cv2.equalizeHist(hist_4)\n",
    "rysowanie_wykresow(wyrownanie)\n",
    "\n",
    "clahe=cv2.createCLAHE(clipLimit=10000000000,tileGridSize=(16,16))\n",
    "clahe=clahe.apply(hist_4)\n",
    "rysowanie_wykresow(clahe)"
   ]
  },
  {
   "cell_type": "markdown",
   "metadata": {
    "collapsed": false,
    "pycharm": {
     "name": "#%% md\n"
    }
   },
   "source": [
    "## Histogram dla obrazów kolorowych i jego wyrównywanie\n",
    "\n",
    "1. Wczytaj obraz *lenaRGB.bmp*.\n",
    "2. Wykonaj konwersję przestrzeni barw z BGR do RGB.\n",
    "3. Wyświetl wczytany obraz oraz histogram dla każdej składowej przestrzeni barw.\n",
    "W tym celu można użyć drugiego argumentu wykorzystywanej funkcji (numer kanału).\n",
    "4. Wykonaj wyrównywanie dla każdej składowej obrazu.\n",
    "Połącz otrzymane składowe w nowy obraz i wyświetl go.\n",
    "Jaka jest zasadnicza wada takiego podejścia?\n",
    "5. Przekształć obraz wejściowy do przestrzeni HSV (flaga `cv2.COLOR_BGR2HSV`).\n",
    "Wyświetl histogramy poszczególnych składowych.\n",
    "Manipulacji dokonujemy na składowej odpowiadającej za jasność, czyli V.\n",
    "Wykonaj wyrównywanie histogramu dla tej składowej.\n",
    "Dokonaj podmiany składowej V i wyświetl rezultat operacji.\n",
    "Uprzednio przeprowadź konwersję HSV->RGB (flaga `cv2.COLOR_HSV2RGB`).\n",
    "6. Wykonaj te same operacje dla obrazu *jezioro.jpg*."
   ]
  },
  {
   "cell_type": "code",
   "execution_count": null,
   "metadata": {
    "collapsed": false,
    "pycharm": {
     "name": "#%% Zadanie 4 - histogram\n"
    }
   },
   "outputs": [],
   "source": [
    "if not os.path.exists(\"lenaRGB.bmp\") :\n",
    "    !wget https://raw.githubusercontent.com/vision-agh/poc_sw/master/03_Histogram/lenaRGB.bmp --no-check-certificate\n",
    "\n",
    "if not os.path.exists(\"jezioro.jpg\") :\n",
    "    !wget https://raw.githubusercontent.com/vision-agh/poc_sw/master/03_Histogram/jezioro.jpg --no-check-certificate\n",
    "\n"
   ]
  },
  {
   "cell_type": "code",
   "execution_count": null,
   "metadata": {
    "collapsed": false,
    "pycharm": {
     "name": "#%% Zadanie 4 - wyrównanie\n"
    }
   },
   "outputs": [],
   "source": [
    "\n",
    "def rysowanie_obrazu_i_histogramow(obraz):\n",
    "    hist_col_1 = cv2.calcHist([obraz], [0], None, [256], [0,256])\n",
    "    hist_col_2 = cv2.calcHist([obraz], [1], None, [256], [0,256])\n",
    "    hist_col_3 = cv2.calcHist([obraz], [2], None, [256], [0,256])\n",
    "\n",
    "    f, ax = plt.subplots(2, 2, figsize=(16, 6))\n",
    "    \n",
    "    ax[0, 0].imshow(obraz, vmin=0, vmax=256)\n",
    "    ax[0, 0].axis('off')\n",
    "    ax[0, 0].set_title('Obraz oryginalny')\n",
    "\n",
    "    ax[0, 1].plot(hist_col_1, color='r')\n",
    "    ax[0, 1].set_title('Red Channel')\n",
    "    ax[0, 1].grid()\n",
    "\n",
    "    ax[1, 0].plot(hist_col_2, color='g')\n",
    "    ax[1, 0].set_title('Green Channel')\n",
    "    ax[1, 0].grid()\n",
    "\n",
    "    ax[1, 1].plot(hist_col_3, color='b')\n",
    "    ax[1, 1].set_title('Blue Channel')\n",
    "    ax[1, 1].grid()\n",
    "\n",
    "    plt.show()\n",
    "\n",
    "if not os.path.exists(\"lenaRGB.bmp\") :\n",
    "    !wget https://raw.githubusercontent.com/vision-agh/poc_sw/master/03_Histogram/lenaRGB.bmp --no-check-certificate\n",
    "\n",
    "if not os.path.exists(\"jezioro.jpg\") :\n",
    "    !wget https://raw.githubusercontent.com/vision-agh/poc_sw/master/03_Histogram/jezioro.jpg --no-check-certificate\n",
    "\n",
    "lena_bgr = cv2.imread('lenaRGB.bmp')\n",
    "lena_col = cv2.cvtColor(lena_bgr, cv2.COLOR_BGR2RGB)\n",
    "rysowanie_obrazu_i_histogramow(lena_col)"
   ]
  },
  {
   "cell_type": "code",
   "execution_count": null,
   "metadata": {
    "collapsed": false,
    "pycharm": {
     "name": "#%% Zadanie 4 - HSV histogram\n"
    }
   },
   "outputs": [],
   "source": [
    "\n",
    "def equalize_and_show_image(image):\n",
    "    equalized_channels = [cv2.equalizeHist(image[:,:,i]) for i in range(3)]\n",
    "    equalized_image = np.zeros_like(image)\n",
    "    for i in range(3):\n",
    "        equalized_image[:,:,i] = equalized_channels[i]\n",
    "\n",
    "    equalized_image = cv2.normalize(equalized_image, None, 0, 255, cv2.NORM_MINMAX).astype('uint8')\n",
    "    \n",
    "    plt.imshow(cv2.cvtColor(equalized_image, cv2.COLOR_BGR2RGB))\n",
    "    plt.xticks([]), plt.yticks([])\n",
    "    plt.show()\n",
    "\n",
    "\n",
    "lena_bgr = cv2.imread('lenaRGB.bmp')\n",
    "equalize_and_show_image(lena_bgr)"
   ]
  },
  {
   "cell_type": "code",
   "execution_count": null,
   "metadata": {
    "collapsed": false,
    "pycharm": {
     "name": "#%% Zadanie 4 - HSV wyrównanie\n"
    }
   },
   "outputs": [],
   "source": [
    "\n",
    "\n",
    "def equalize_hsv_v_channel(image):\n",
    "    hsv_image = cv2.cvtColor(image, cv2.COLOR_BGR2HSV)\n",
    "\n",
    "    hsv_image[:,:,2] = cv2.equalizeHist(hsv_image[:,:,2])\n",
    "\n",
    "    normalized_image = cv2.cvtColor(hsv_image, cv2.COLOR_HSV2RGB)\n",
    "\n",
    "    normalized_image = cv2.normalize(normalized_image, None, 0, 255, cv2.NORM_MINMAX).astype('uint8')\n",
    "\n",
    "    plt.imshow(normalized_image)\n",
    "    plt.xticks([]), plt.yticks([])\n",
    "    plt.show()\n",
    "\n",
    "\n",
    "lena_bgr = cv2.imread('lenaRGB.bmp')\n",
    "equalize_hsv_v_channel(lena_bgr)"
   ]
  },
  {
   "cell_type": "code",
   "execution_count": null,
   "metadata": {},
   "outputs": [],
   "source": [
    "\n",
    "def display_histograms_and_equalized_images(image):\n",
    "    image_rgb = cv2.cvtColor(image, cv2.COLOR_BGR2RGB)\n",
    "    \n",
    "    hist_col_1 = cv2.calcHist([image_rgb], [0], None, [256], [0, 256])\n",
    "    hist_col_2 = cv2.calcHist([image_rgb], [1], None, [256], [0, 256])\n",
    "    hist_col_3 = cv2.calcHist([image_rgb], [2], None, [256], [0, 256])\n",
    "\n",
    "    f, ((ax1, ax2), (ax3, ax4)) = plt.subplots(2, 2, figsize=(20, 20))\n",
    "    ax1.imshow(image_rgb, vmin=0, vmax=256)\n",
    "    ax1.axis('off')\n",
    "    ax2.plot(hist_col_1)\n",
    "    ax2.grid()\n",
    "    ax3.plot(hist_col_2)\n",
    "    ax3.grid()\n",
    "    ax4.plot(hist_col_3)\n",
    "    ax4.grid()\n",
    "\n",
    "    equalized_channels = [cv2.equalizeHist(image_rgb[:,:,i]) for i in range(3)]\n",
    "    equalized_image = np.zeros_like(image_rgb)\n",
    "    for i in range(3):\n",
    "        equalized_image[:,:,i] = equalized_channels[i]\n",
    "    \n",
    "    equalized_image = cv2.normalize(equalized_image, None, 0, 255, cv2.NORM_MINMAX).astype('uint8')\n",
    "    ax1.imshow(equalized_image)\n",
    "    ax1.axis('off')\n",
    "\n",
    "    plt.show()\n",
    "\n",
    "\n",
    "\n",
    "jezioro_bgr = cv2.imread('jezioro.jpg')\n",
    "display_histograms_and_equalized_images(jezioro_bgr)"
   ]
  }
 ],
 "metadata": {
  "kernelspec": {
   "display_name": "Python 3",
   "language": "python",
   "name": "python3"
  },
  "language_info": {
   "codemirror_mode": {
    "name": "ipython",
    "version": 3
   },
   "file_extension": ".py",
   "mimetype": "text/x-python",
   "name": "python",
   "nbconvert_exporter": "python",
   "pygments_lexer": "ipython3",
   "version": "3.11.8"
  }
 },
 "nbformat": 4,
 "nbformat_minor": 4
}
