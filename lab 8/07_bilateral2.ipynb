{
 "cells": [
  {
   "cell_type": "markdown",
   "metadata": {
    "pycharm": {
     "name": "#%% md\n"
    }
   },
   "source": [
    "# Filtracja bilateralna"
   ]
  },
  {
   "cell_type": "markdown",
   "metadata": {
    "collapsed": false,
    "pycharm": {
     "name": "#%% md\n"
    }
   },
   "source": [
    "## Konwolucja obrazu z filtrem o zadanych współczynnikach\n",
    "\n",
    "Splot (konwolucję) obrazu wejściowego $I$ z filtrem $\\psi$ dla ustalonego punktu obrazu $\\mathbf{x}$ można przedstawić następująco:\n",
    "\n",
    "\\begin{equation}\n",
    "\\hat{I}(\\mathbf{x}) = \\frac{1}{W_N}\\sum_{\\mathbf{p} \\in \\eta(\\mathbf{x})} \\psi(||\\mathbf{p}-\\mathbf{x}||)I(\\mathbf{p})\n",
    "\\tag{1}\n",
    "\\end{equation}\n",
    "\n",
    "gdzie:\n",
    "- $\\hat{I}$ jest obrazem wynikowym (przefiltrowanym),\n",
    "- $W_N = \\sum_y \\psi(y)$ jest parametrem normalizującym współczynniki filtra $\\psi$,\n",
    "- $||\\cdot||$ jest odległością między punktami obrazu $\\mathbf{x}$ i $\\mathbf{p}$ według ustalonej metryki (np. norma $L_2$). Uwaga, proszę pamiętać, że zarówno $\\mathbf{x}$, jak i $\\mathbf{p}$ to współrzędne przestrzenne,\n",
    "- $\\eta(\\mathbf{x})$ jest otoczeniem punktu $\\mathbf{x}$.\n",
    "\n",
    "Funkcja $\\psi$ decyduje o charakterze filtracji. Dla filtru Gaussowskiego:\n",
    "\n",
    "\\begin{equation}\n",
    "\\psi(y) = G_{\\delta_s}(y)\n",
    "\\tag{2}\n",
    "\\end{equation}\n",
    "\n",
    "gdzie: $G_{\\delta_s}(y)$ jest funkcją Gaussa z parametrem skali $\\delta_s$.\n",
    "\n",
    "Opisaną powyżej filtrację realizowaliśmy w ramach ćwiczenia \"Przetwarzanie wstępne. Filtracja kontekstowa.\""
   ]
  },
  {
   "cell_type": "markdown",
   "metadata": {
    "collapsed": false,
    "pycharm": {
     "name": "#%% md\n"
    }
   },
   "source": [
    "## Filtracja bilateralna\n",
    "\n",
    "Wadą klasycznego splotu jest brak adaptacji współczynników filtra do lokalnego otoczenia $\\eta(\\mathbf{x})$ filtrowanego punktu $\\mathbf{x}$.\n",
    "Oznacza to wykorzystanie tych samych współczynników filtra $\\psi$ niezależnie od tego czy otoczenie jest względnie jednorodne lub zawiera krawędzie obiektów (w tym przypadku dochodzi do \"rozmywania\" krawędzi).\n",
    "Filtracja bilateralna uwzględnia lokalne otoczenie filtrowanego punktu, w ten sposób, że parametry filtra zmieniają się w zależności od \"wyglądu\" otoczenia.\n",
    "\n",
    "\n",
    "Współczynniki filtra obliczane są na podstawie odległości filtrowanego punktu $\\mathbf{x}$ od każdego punktu otoczenia $\\mathbf{p}$ w dziedzinie przestrzennej obrazu (tak jak przy typowym filtrze np. Gaussa) oraz odległości punktów w przeciwdziedzinie obrazu (np. na podstawie różnicy w jasności pikseli dla obrazu w odcieniach szarości):\n",
    "\n",
    "\\begin{equation}\n",
    "\\hat{I}(\\mathbf{x}) = \\frac{1}{W_N}\\sum_{\\mathbf{p} \\in \\eta(\\mathbf{x})} \\psi(||\\mathbf{p}-\\mathbf{x}||) \\gamma(|I(\\mathbf{p}) - I(\\mathbf{x})|) I(\\mathbf{p})\n",
    "\\tag{3}\n",
    "\\end{equation}\n",
    "gdzie:\n",
    "- $W_N$ jest współczynnikiem normalizującym filtr,\n",
    "- $\\gamma$ jest funkcją odległości w przeciwdziedzinie obrazu, np. $\\gamma(y)=\\exp(-\\frac{y^2}{2\\delta_r^2})$\n",
    "- parametr $\\delta_r$ jest utożsamiany z poziomem szumu w obrazie i należy go dobrać w sposób empiryczny.\n",
    "\n",
    "Proszę chwilę zastanowić się nad powyższym równaniem, w szczególności nad funkcją $\\gamma$. Proszę wyznaczyć, jaka będzie wartość funkcji dla pikseli podobnych (różnica 0, 1, 2), a skrajnie różnych (255, 200).\n",
    "\n",
    "##  Realizacja ćwiczenia\n",
    "\n",
    "### Wczytanie danych\n",
    "\n",
    "1. Wczytaj dane z pliku *MR_data.mat*. W tym celu wykorzystaj funkcję `loadmat` z pakietu scipy:\n",
    "        from scipy.io import loadmat\n",
    "        mat = loadmat('MR_data.mat')\n",
    "\n",
    "2. Wczytany plik zawiera 5 obrazów: *I_noisefree*, *I_noisy1*, *I_noisy2*, *I_noisy3* oraz *I_noisy4*. Odczytać je można w następujący sposób:\n",
    "        Input = mat['I_noisy1']\n",
    "\n",
    "3. Wyświetl wybrany obraz z pliku *MR_data.mat*. Zagadka - co to za obrazowanie medyczne?"
   ]
  },
  {
   "cell_type": "code",
   "execution_count": null,
   "metadata": {
    "collapsed": false,
    "pycharm": {
     "name": "#%% Zadanie 1 - wyświetlanie\n"
    }
   },
   "outputs": [],
   "source": [
    "from matplotlib import pyplot as plt\n",
    "import numpy as np\n",
    "from scipy.io import loadmat\n",
    "import math\n",
    "import os\n",
    "from scipy import signal\n",
    "\n",
    "\n",
    "if not os.path.exists(\"MR_data.mat\") :\n",
    "    !wget https://raw.githubusercontent.com/vision-agh/poc_sw/master/07_Bilateral/MR_data.mat --no-check-certificate\n",
    "mat=loadmat('MR_data.mat')\n",
    "\n",
    "\n",
    "l_noisefree=mat['I_noisefree']\n",
    "l_noisy1=mat['I_noisy1']\n",
    "l_noisy2=mat['I_noisy2']\n",
    "l_noisy3=mat['I_noisy3']\n",
    "L_noisy4=mat['I_noisy4']\n",
    "\n",
    "for x in [l_noisefree, l_noisy1, l_noisy2, l_noisy3, L_noisy4]:\n",
    "    plt.imshow(x, cmap='gray')\n",
    "    plt.show()\n",
    "#TODO Samodzielna\n",
    "\n"
   ]
  },
  {
   "cell_type": "markdown",
   "metadata": {
    "collapsed": false,
    "pycharm": {
     "name": "#%% md\n"
    }
   },
   "source": [
    "### \"Klasyczna\" konwolucja\n",
    "\n",
    "1. Zdefiniuj parametry filtra Gaussowskiego: rozmiar okna i wariancję $\\delta_S$.\n",
    "2. Oblicz współczynniki filtra na podstawie zdefiniowanych parametrów (najprościej w ramach podwójnej pętli for).\n",
    "2. Sprawdź ich poprawność i zwizualizuj filtr (tak jak w ćwiczeniu pt. \"Przetwarzanie wstępne. Filtracja kontekstowa.\").\n",
    "3. Wykonaj kopię obrazu wejściowego: `IConv = Input.copy()`\n",
    "4. Wykonaj podwójną pętlę po obrazie. Pomiń ramkę, dla której nie jest zdefiniowany kontekst o wybranej wielkości.\n",
    "5. W każdej iteracji stwórz dwuwymiarową tablicę zawierającą aktualny kontekst.\n",
    "6. Napisz funkcję, która będzie obliczała nową wartość piksela.\n",
    "Argumentem tej funkcji są aktualnie przetwarzane okno i współczynniki filtra.\n",
    "7. Obliczoną wartość przypisz do odpowiedniego piksela kopii obrazu wejściowego.\n",
    "8. Wyświetl wynik filtracji.\n",
    "9. Porównaj wynik z obrazem oryginalnym."
   ]
  },
  {
   "cell_type": "code",
   "execution_count": null,
   "metadata": {
    "collapsed": false,
    "pycharm": {
     "name": "#%% Zadanie 2 - konwolucja\n"
    }
   },
   "outputs": [],
   "source": [
    "#TODO Samodzielna\n",
    "\n",
    "def fgaussian(size, sigma):\n",
    "     m = n = size\n",
    "     h, k = m//2, n//2\n",
    "     x, y = np.mgrid[-h:h+1, -k:k+1]\n",
    "     g = np.exp(-(x**2 + y**2)/(2*sigma**2))\n",
    "     return g /g.sum() \n",
    "\n",
    "def fgaussian_bez(size, sigma):\n",
    "     m = n = size\n",
    "     h, k = m//2, n//2\n",
    "     x, y = np.mgrid[-h:h+1, -k:k+1]\n",
    "     g = np.exp(-(x**2 + y**2)/(2*sigma**2))\n",
    "     return g \n",
    "\n",
    "nois1=signal.convolve2d(l_noisy1,fgaussian(5,0.7),mode='same')\n",
    "\n",
    "window_size=1000\n",
    "sigma=5\n",
    "\n",
    "\n",
    "\n",
    "\n",
    "def pixel_out(window, filter, variance):\n",
    "    window_height, window_width = window.shape\n",
    "    pixel_value = 0\n",
    "    center = [window_height // 2, window_width // 2]\n",
    "\n",
    "    for i in range(window_height):\n",
    "        for j in range(window_width):\n",
    "            distance = np.sqrt(((center[0] - i) ** 2) + ((center[1] - j) ** 2))\n",
    "            gaussian_value = np.exp(-(distance ** 2) / (2 * (variance ** 2)))\n",
    "            pixel_value += gaussian_value * window[i, j]\n",
    "\n",
    "    pixel_value /= filter.sum()\n",
    "    return pixel_value\n",
    "     \n",
    "\n",
    "def convolve_image_with_window(image, window_size, variance):\n",
    "    gaussian_filter = fgaussian_bez(5, variance)  \n",
    "    convolved_image = image.copy()\n",
    "    image_height, image_width = convolved_image.shape\n",
    "    half_window_size = window_size // 2\n",
    "\n",
    "    for row in range(half_window_size, image_height - half_window_size):\n",
    "        for col in range(half_window_size, image_width - half_window_size):\n",
    "            window = convolved_image[row - half_window_size:row + half_window_size + 1, \n",
    "                                     col - half_window_size:col + half_window_size + 1]\n",
    "            new_pixel_value = pixel_out(window, gaussian_filter, variance)\n",
    "            convolved_image[row, col] = new_pixel_value\n",
    "\n",
    "    return convolved_image\n",
    "\n",
    "\n",
    "wynik= convolve_image_with_window(l_noisy1, window_size, sigma)\n",
    "\n",
    "\n",
    "plt.imshow(l_noisy1, cmap='gray')\n",
    "plt.title('Obraz oryginalny')\n",
    "plt.axis('off')\n",
    "plt.show()\n",
    "plt.imshow(wynik, cmap='gray')\n",
    "plt.title(f'Obraz po konwolucji filtrem Gaussowskim, z parametrami rozmiar okna= {window_size}, sigma= {sigma}')\n",
    "plt.axis('off')\n",
    "plt.show()\n"
   ]
  },
  {
   "cell_type": "markdown",
   "metadata": {
    "collapsed": false,
    "pycharm": {
     "name": "#%% md\n"
    }
   },
   "source": [
    "### Filtracja bilateralna\n",
    "\n",
    "1. Zdefiniuj dodatkowy parametr: wariancję $\\delta_R$.\n",
    "3. Wykonaj kopię obrazu wejściowego: `IBilateral = Input.copy()`\n",
    "4. Wykonaj podwójną pętlę po obrazie. Pomiń ramkę, dla której nie jest zdefiniowany kontekst o wybranej wielkości.\n",
    "5. W każdej iteracji stwórz dwuwymiarową tablicę zawierającą aktualny kontekst.\n",
    "6. Napisz funkcję, która będzie obliczała nową wartość piksela.\n",
    "Argumentami funkcji są aktualnie przetwarzane okno, współczynniki filtra gaussowskiego (takie same jak wcześniej) i wariancja $\\delta_R$.\n",
    "7. Oblicz odległość w przeciwdziedzinie (dla wartości pikseli).\n",
    "8. Oblicz funkcję Gaussa dla obliczonych odległości z zadanym parametrem.\n",
    "9. Wykonaj normalizację obliczonych współczynników.\n",
    "10. Obliczoną wartość przypisz do odpowiedniego piksela kopii obrazu wejściowego.\n",
    "11. Wyświetl wynik filtracji.\n",
    "12. Porównaj wynik z obrazem oryginalnym."
   ]
  },
  {
   "cell_type": "code",
   "execution_count": null,
   "metadata": {
    "collapsed": false,
    "pycharm": {
     "name": "#%%\n"
    }
   },
   "outputs": [],
   "source": [
    "\n",
    "\n",
    "def pixel_out_2(window, filter, variance, delta_r):\n",
    "    window_height, window_width = window.shape\n",
    "    pixel_value = 0\n",
    "    normalization = 0\n",
    "    center_pixel_coords = [window_height // 2, window_width // 2]\n",
    "\n",
    "    for row in range(window_height):\n",
    "        for col in range(window_width):\n",
    "            distance_to_center = np.sqrt(((center_pixel_coords[0] - row) ** 2) + ((center_pixel_coords[1] - col) ** 2))\n",
    "            gaussian_distance = np.exp(-(distance_to_center ** 2) / (2 * (variance ** 2)))\n",
    "            \n",
    "            pixel_intensity_difference = np.abs(window[center_pixel_coords[0], center_pixel_coords[1]] - window[row, col])\n",
    "            gaussian_intensity_difference = np.exp(-(pixel_intensity_difference ** 2) / (2 * (delta_r ** 2)))\n",
    "            \n",
    "            pixel_value += gaussian_distance * gaussian_intensity_difference * window[row, col]\n",
    "            normalization += gaussian_distance * gaussian_intensity_difference\n",
    "\n",
    "    pixel_value /= normalization\n",
    "    return pixel_value\n",
    "\n",
    "\n",
    "def bilateral_filter(image, window_size, spatial_variance, intensity_variance):\n",
    "    gaussian_filter = fgaussian_bez(window_size, spatial_variance)\n",
    "    filtered_image = image.copy()\n",
    "    image_height, image_width = filtered_image.shape\n",
    "    half_window = window_size // 2\n",
    "\n",
    "    for row in range(half_window, image_height - half_window):\n",
    "        for col in range(half_window, image_width - half_window):\n",
    "            window = filtered_image[row - half_window:row + half_window + 1, \n",
    "                                    col - half_window:col + half_window + 1]\n",
    "            new_pixel_value = pixel_out_2(window, gaussian_filter, spatial_variance, intensity_variance)\n",
    "            filtered_image[row, col] = new_pixel_value\n",
    "\n",
    "    return filtered_image\n",
    "\n",
    "\n",
    "delta_r=300\n",
    "variancy_1=0.9\n",
    "\n",
    "\n",
    "filtered_image_1 = bilateral_filter(l_noisy1, window_size, variancy_1, delta_r)\n",
    "filtered_image_2 = bilateral_filter(l_noisy2, window_size, variancy_1, delta_r)\n",
    "filtered_image_3 = bilateral_filter(l_noisy3, window_size, variancy_1, delta_r)\n",
    "filtered_image_4 = bilateral_filter(L_noisy4, window_size, variancy_1, delta_r)\n",
    "noise_free_image = l_noisefree\n",
    "\n",
    "# Wyświetlamy obrazy\n",
    "plt.figure(figsize=(18, 18))\n",
    "\n",
    "plt.subplot(3, 2, 1)\n",
    "plt.imshow(l_noisy1, cmap='gray')\n",
    "plt.title('2-L_noisy1 - Obraz oryginalny')\n",
    "plt.axis('off')\n",
    "\n",
    "plt.subplot(3, 2, 2)\n",
    "plt.imshow(filtered_image_1, cmap='gray')\n",
    "plt.title('1-Obraz po filtracji')\n",
    "plt.axis('off')\n",
    "\n",
    "plt.subplot(3, 2, 3)\n",
    "plt.imshow(l_noisy2, cmap='gray')\n",
    "plt.title('L_noisy2 - Obraz oryginalny')\n",
    "plt.axis('off')\n",
    "\n",
    "plt.subplot(3, 2, 4)\n",
    "plt.imshow(filtered_image_2, cmap='gray')\n",
    "plt.title('2- Obraz po filtracj')\n",
    "plt.axis('off')\n",
    "\n",
    "plt.subplot(3, 2, 5)\n",
    "plt.imshow(l_noisy3, cmap='gray')\n",
    "plt.title('3- Obraz oryginalny')\n",
    "plt.axis('off')\n",
    "\n",
    "plt.subplot(3, 2, 6)\n",
    "plt.imshow(filtered_image_3, cmap='gray')\n",
    "plt.title('3 - Obraz po filtracji')\n",
    "plt.axis('off')\n",
    "\n",
    "plt.show()"
   ]
  }
 ],
 "metadata": {
  "kernelspec": {
   "display_name": "Python 3",
   "language": "python",
   "name": "python3"
  },
  "language_info": {
   "codemirror_mode": {
    "name": "ipython",
    "version": 3
   },
   "file_extension": ".py",
   "mimetype": "text/x-python",
   "name": "python",
   "nbconvert_exporter": "python",
   "pygments_lexer": "ipython3",
   "version": "3.11.9"
  }
 },
 "nbformat": 4,
 "nbformat_minor": 4
}
